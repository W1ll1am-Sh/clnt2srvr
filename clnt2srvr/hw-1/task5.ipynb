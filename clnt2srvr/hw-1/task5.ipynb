{
 "cells": [
  {
   "cell_type": "code",
   "execution_count": 1,
   "metadata": {},
   "outputs": [],
   "source": [
    "import subprocess"
   ]
  },
  {
   "cell_type": "code",
   "execution_count": 2,
   "metadata": {},
   "outputs": [
    {
     "name": "stdout",
     "output_type": "stream",
     "text": [
      "\n",
      "\n",
      "Обмен пакетами с yandex.ru [5.255.255.88] с 32 байтами данных:\n",
      "\n",
      "Ответ от 5.255.255.88: число байт=32 время=77мс TTL=50\n",
      "\n",
      "Ответ от 5.255.255.88: число байт=32 время=70мс TTL=50\n",
      "\n",
      "Ответ от 5.255.255.88: число байт=32 время=89мс TTL=50\n",
      "\n",
      "Ответ от 5.255.255.88: число байт=32 время=62мс TTL=50\n",
      "\n",
      "\n",
      "\n",
      "Статистика Ping для 5.255.255.88:\n",
      "\n",
      "    Пакетов: отправлено = 4, получено = 4, потеряно = 0\n",
      "\n",
      "    (0% потерь)\n",
      "\n",
      "Приблизительное время приема-передачи в мс:\n",
      "\n",
      "    Минимальное = 62мсек, Максимальное = 89 мсек, Среднее = 74 мсек\n",
      "\n"
     ]
    }
   ],
   "source": [
    "args = ['ping', 'yandex.ru']\n",
    "subproc_ping = subprocess.Popen(args, stdout=subprocess.PIPE)\n",
    "for line in subproc_ping.stdout:\n",
    "            line = line.decode('cp866').encode('utf-8')\n",
    "            print(line.decode('utf-8'))"
   ]
  },
  {
   "cell_type": "code",
   "execution_count": 3,
   "metadata": {},
   "outputs": [
    {
     "name": "stdout",
     "output_type": "stream",
     "text": [
      "\n",
      "\n",
      "Обмен пакетами с youtube.com [216.58.211.14] с 32 байтами данных:\n",
      "\n",
      "Ответ от 216.58.211.14: число байт=32 время=85мс TTL=49\n",
      "\n",
      "Ответ от 216.58.211.14: число байт=32 время=91мс TTL=49\n",
      "\n",
      "Ответ от 216.58.211.14: число байт=32 время=101мс TTL=49\n",
      "\n",
      "Ответ от 216.58.211.14: число байт=32 время=98мс TTL=49\n",
      "\n",
      "\n",
      "\n",
      "Статистика Ping для 216.58.211.14:\n",
      "\n",
      "    Пакетов: отправлено = 4, получено = 4, потеряно = 0\n",
      "\n",
      "    (0% потерь)\n",
      "\n",
      "Приблизительное время приема-передачи в мс:\n",
      "\n",
      "    Минимальное = 85мсек, Максимальное = 101 мсек, Среднее = 93 мсек\n",
      "\n"
     ]
    }
   ],
   "source": [
    "args = ['ping', 'youtube.com']\n",
    "subproc_ping = subprocess.Popen(args, stdout=subprocess.PIPE)\n",
    "for line in subproc_ping.stdout:\n",
    "            line = line.decode('cp866').encode('utf-8')\n",
    "            print(line.decode('utf-8'))"
   ]
  },
  {
   "cell_type": "code",
   "execution_count": null,
   "metadata": {},
   "outputs": [],
   "source": []
  }
 ],
 "metadata": {
  "kernelspec": {
   "display_name": "Python 3",
   "language": "python",
   "name": "python3"
  },
  "language_info": {
   "codemirror_mode": {
    "name": "ipython",
    "version": 3
   },
   "file_extension": ".py",
   "mimetype": "text/x-python",
   "name": "python",
   "nbconvert_exporter": "python",
   "pygments_lexer": "ipython3",
   "version": "3.7.3"
  }
 },
 "nbformat": 4,
 "nbformat_minor": 2
}
