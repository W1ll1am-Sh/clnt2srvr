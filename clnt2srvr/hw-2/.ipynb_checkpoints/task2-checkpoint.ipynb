{
 "cells": [
  {
   "cell_type": "code",
   "execution_count": 1,
   "metadata": {},
   "outputs": [],
   "source": [
    "import json"
   ]
  },
  {
   "cell_type": "code",
   "execution_count": 4,
   "metadata": {},
   "outputs": [],
   "source": [
    "def write_order_to_json(item     : str, \n",
    "                        quantity : int, \n",
    "                        price    : int, \n",
    "                        buyer    : str, \n",
    "                        date     : str):\n",
    "    data = {\n",
    "        \"item\"    : item,\n",
    "        \"quantity\": quantity,\n",
    "        \"price\"   : price,\n",
    "        \"buyer\"   : buyer,\n",
    "        \"date\"    : date\n",
    "    }\n",
    "    \n",
    "    with open('data.json', 'w') as file:\n",
    "        raw = json.dumps(data, indent=4)\n",
    "        file.write(raw)"
   ]
  },
  {
   "cell_type": "code",
   "execution_count": 5,
   "metadata": {},
   "outputs": [],
   "source": [
    "write_order_to_json('table', 5, 566, 'me', '5.5.05')"
   ]
  },
  {
   "cell_type": "code",
   "execution_count": null,
   "metadata": {},
   "outputs": [],
   "source": []
  }
 ],
 "metadata": {
  "kernelspec": {
   "display_name": "Python 3",
   "language": "python",
   "name": "python3"
  },
  "language_info": {
   "codemirror_mode": {
    "name": "ipython",
    "version": 3
   },
   "file_extension": ".py",
   "mimetype": "text/x-python",
   "name": "python",
   "nbconvert_exporter": "python",
   "pygments_lexer": "ipython3",
   "version": "3.7.3"
  }
 },
 "nbformat": 4,
 "nbformat_minor": 2
}
