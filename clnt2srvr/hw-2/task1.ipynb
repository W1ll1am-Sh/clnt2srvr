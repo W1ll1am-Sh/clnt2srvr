{
 "cells": [
  {
   "cell_type": "code",
   "execution_count": 1,
   "metadata": {},
   "outputs": [],
   "source": [
    "import csv"
   ]
  },
  {
   "cell_type": "code",
   "execution_count": 16,
   "metadata": {},
   "outputs": [],
   "source": [
    "path_list = ['data/info_1.txt','data/info_2.txt','data/info_3.txt']\n",
    "counter   = 0\n",
    "\n",
    "for path in path_list:\n",
    "    text_file            = open(path, 'r')\n",
    "    read_text            = text_file.read()\n",
    "    list_to_csv[counter] = read_text.split(',')\n",
    "    counter              = counter + 1\n",
    "    \n",
    "    with open('data.csv', \"w\", newline='') as csv_file:\n",
    "        writer = csv.writer(csv_file)\n",
    "    \n",
    "        for line in list_to_csv:\n",
    "            writer.writerow(line)"
   ]
  },
  {
   "cell_type": "code",
   "execution_count": null,
   "metadata": {},
   "outputs": [],
   "source": []
  }
 ],
 "metadata": {
  "kernelspec": {
   "display_name": "Python 3",
   "language": "python",
   "name": "python3"
  },
  "language_info": {
   "codemirror_mode": {
    "name": "ipython",
    "version": 3
   },
   "file_extension": ".py",
   "mimetype": "text/x-python",
   "name": "python",
   "nbconvert_exporter": "python",
   "pygments_lexer": "ipython3",
   "version": "3.7.3"
  }
 },
 "nbformat": 4,
 "nbformat_minor": 2
}
